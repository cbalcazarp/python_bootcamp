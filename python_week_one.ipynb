{
  "nbformat": 4,
  "nbformat_minor": 0,
  "metadata": {
    "colab": {
      "name": "python_week_one.ipynb",
      "provenance": [],
      "collapsed_sections": [],
      "authorship_tag": "ABX9TyOCKOw+Aak2OdoA5sgchlbP",
      "include_colab_link": true
    },
    "kernelspec": {
      "name": "python3",
      "display_name": "Python 3"
    }
  },
  "cells": [
    {
      "cell_type": "markdown",
      "metadata": {
        "id": "view-in-github",
        "colab_type": "text"
      },
      "source": [
        "<a href=\"https://colab.research.google.com/github/cbalcazarp/python_bootcamp/blob/main/python_week_one.ipynb\" target=\"_parent\"><img src=\"https://colab.research.google.com/assets/colab-badge.svg\" alt=\"Open In Colab\"/></a>"
      ]
    },
    {
      "cell_type": "code",
      "metadata": {
        "colab": {
          "base_uri": "https://localhost:8080/"
        },
        "id": "nVb5wbVOkKOj",
        "outputId": "b852a413-c304-4137-8bcc-9d21ed895e98"
      },
      "source": [
        "import requests\n",
        "\n",
        "response = requests.get('https://uselessfacts.jsph.pl/random.json?language=en')\n",
        "\n",
        "print(response.text)"
      ],
      "execution_count": null,
      "outputs": [
        {
          "output_type": "stream",
          "text": [
            "{\"id\":\"9e41cc51-bfaf-44d6-9366-1788856899d9\",\"text\":\"In space, astronauts are unable to cry, because there is no gravity and the tears won`t flow.\",\"source\":\"djtech.net\",\"source_url\":\"http:\\/\\/www.djtech.net\\/humor\\/useless_facts.htm\",\"language\":\"en\",\"permalink\":\"https:\\/\\/uselessfacts.jsph.pl\\/9e41cc51-bfaf-44d6-9366-1788856899d9\"}\n"
          ],
          "name": "stdout"
        }
      ]
    },
    {
      "cell_type": "markdown",
      "metadata": {
        "id": "7fSaAwZI1PxL"
      },
      "source": [
        "# Data Structures\n",
        "The **important** ones are lists, dictionaries and sets"
      ]
    },
    {
      "cell_type": "code",
      "metadata": {
        "colab": {
          "base_uri": "https://localhost:8080/"
        },
        "id": "5uNp3hZy2fZA",
        "outputId": "0110c227-ce29-4bee-d700-d169f0eb92d1"
      },
      "source": [
        "data = ['Caleb', 'you']\n",
        "print (data[1])\n",
        "data.append('Jimmy')\n",
        "data.append(['Joel'])\n",
        "data.append(6)\n",
        "\n",
        "print(data)\n"
      ],
      "execution_count": null,
      "outputs": [
        {
          "output_type": "stream",
          "text": [
            "you\n",
            "['Caleb', 'you', 'Jimmy', ['Joel'], 6]\n"
          ],
          "name": "stdout"
        }
      ]
    },
    {
      "cell_type": "markdown",
      "metadata": {
        "id": "U1aYW-Wi67EY"
      },
      "source": [
        "## List slicing\n",
        "first number - starting position (inclusive).  \n",
        "second number - stopping position (exclusive).  \n",
        "third number - step.\n"
      ]
    },
    {
      "cell_type": "code",
      "metadata": {
        "colab": {
          "base_uri": "https://localhost:8080/"
        },
        "id": "rj2J-Eij5XJJ",
        "outputId": "566a8ec7-1565-49e4-a291-b6dcb404a1df"
      },
      "source": [
        "data = ['Caleb', 'Jimmy', 'Samantha', 'Monica', 'Caleb']\n",
        "\n",
        "\n",
        "\n",
        "print(data[::-1])"
      ],
      "execution_count": null,
      "outputs": [
        {
          "output_type": "stream",
          "text": [
            "['Caleb', 'Monica', 'Samantha', 'Jimmy', 'Caleb']\n"
          ],
          "name": "stdout"
        }
      ]
    },
    {
      "cell_type": "markdown",
      "metadata": {
        "id": "ol96jZ4u8sXk"
      },
      "source": [
        "## Dictionaries and Sets"
      ]
    },
    {
      "cell_type": "code",
      "metadata": {
        "colab": {
          "base_uri": "https://localhost:8080/"
        },
        "id": "qnK8_gf88q8V",
        "outputId": "588205eb-60fa-43f1-8943-0372e7fefb33"
      },
      "source": [
        "#Sets\n",
        "data = {'Caleb', 'Jimmy', 'Samantha', 'Monica', 'Caleb'}\n",
        "\n",
        "#Dictionaries\n",
        "data_dictionary = {\n",
        "    'Caleb': 5,\n",
        "    'Carlos': 10,\n",
        "    'Renzo': 20,\n",
        "    'Carlos': 25\n",
        "}\n",
        "\n",
        "print(data)\n",
        "print(data_dictionary.get('Carlos'))"
      ],
      "execution_count": null,
      "outputs": [
        {
          "output_type": "stream",
          "text": [
            "{'Monica', 'Caleb', 'Jimmy', 'Samantha'}\n",
            "25\n"
          ],
          "name": "stdout"
        }
      ]
    },
    {
      "cell_type": "markdown",
      "metadata": {
        "id": "-REer6nVBmcl"
      },
      "source": [
        "## Control Flow - Loops and Conditionals\n",
        "\n",
        "1.   List item\n",
        "2.   List item\n",
        "\n",
        "\n",
        "Iteration - One time through the loop.  "
      ]
    },
    {
      "cell_type": "code",
      "metadata": {
        "colab": {
          "base_uri": "https://localhost:8080/"
        },
        "id": "wMO8GdYZBlXH",
        "outputId": "5bcd5e9e-1cc2-4c92-89d7-72b1f33e24bd"
      },
      "source": [
        "data = ['a', 'b', 'c', 'd', 'e']\n",
        "\n",
        "#print(len(data))\n",
        "\n",
        "#for i in range(len(data)):\n",
        "#  print(data[i])\n",
        "\n",
        "for i in range(10):\n",
        "  print(i, end=\" \")\n",
        "\n",
        "print(\" \")\n",
        "\n",
        "for letter in data:\n",
        "    print(letter, end=\" \")\n",
        "\n",
        "print(\" \")\n",
        "\n",
        "for i, letter in enumerate(data):\n",
        "    print(i, letter, end=\" \")"
      ],
      "execution_count": null,
      "outputs": [
        {
          "output_type": "stream",
          "text": [
            "0 1 2 3 4 5 6 7 8 9  \n",
            "a b c d e  \n",
            "0 a 1 b 2 c 3 d 4 e "
          ],
          "name": "stdout"
        }
      ]
    },
    {
      "cell_type": "code",
      "metadata": {
        "colab": {
          "base_uri": "https://localhost:8080/"
        },
        "id": "cIyAiF40u8KT",
        "outputId": "ae40abf5-3acf-42b2-9916-34fc0e5d293b"
      },
      "source": [
        "data = ['a', 'b', 'c', 'd', 'e']\n",
        "\n",
        "i = 0\n",
        "\n",
        "while i  <  len(data):\n",
        "  print(data[i], end=\" \")\n",
        "  i += 1\n",
        "\n",
        "\n",
        "while True:\n",
        "  x = input()\n",
        "  if x == \"stop\":\n",
        "    break\n",
        "  elif x == \"special\":\n",
        "    continue\n",
        "  else:\n",
        "    print(\"it wasn't stop or special\")\n",
        "  print(\"printing data...\")\n",
        "\n"
      ],
      "execution_count": 1,
      "outputs": [
        {
          "output_type": "stream",
          "text": [
            "a b c d e play\n",
            "it wasn't stop or special\n",
            "printing data...\n",
            "recuay\n",
            "it wasn't stop or special\n",
            "printing data...\n",
            "special\n",
            "stop\n"
          ],
          "name": "stdout"
        }
      ]
    },
    {
      "cell_type": "code",
      "metadata": {
        "colab": {
          "base_uri": "https://localhost:8080/"
        },
        "id": "M_dXdYac1-ba",
        "outputId": "b9964314-e38a-4ce8-9460-888c22b2f236"
      },
      "source": [
        "data_dictionary = {\n",
        "    'Caleb': 5,\n",
        "    'Carlos': 25,\n",
        "    'Renzo': 20,\n",
        "    'August': 1\n",
        "}\n",
        "\n",
        "print(data_dictionary)\n",
        "\n",
        "print(\" \")\n",
        "\n",
        "for key, value in data_dictionary.items():\n",
        "  if key == 'Carlos':\n",
        "    print('Carlos is here')\n",
        "    break\n",
        "  print(key, value)\n",
        "    \n",
        "\n",
        "\n"
      ],
      "execution_count": 2,
      "outputs": [
        {
          "output_type": "stream",
          "text": [
            "{'Caleb': 5, 'Carlos': 25, 'Renzo': 20, 'August': 1}\n",
            " \n",
            "Caleb 5\n",
            "Carlos is here\n"
          ],
          "name": "stdout"
        }
      ]
    },
    {
      "cell_type": "markdown",
      "metadata": {
        "id": "pdzRnNyVdf1T"
      },
      "source": [
        "## Guessing Game\r\n",
        "Generate a random number - random module.  \r\n",
        "do while - Python doesn't have this built in.  \r\n",
        "do something once - possibly repeat it.  \r\n",
        "Ask us for a number. If we get it wrong, ask again\r\n",
        "logic for right / wrong: guessed == correct value"
      ]
    },
    {
      "cell_type": "code",
      "metadata": {
        "colab": {
          "base_uri": "https://localhost:8080/"
        },
        "id": "G2dGnu5qWmR8",
        "outputId": "b2ee592f-c567-4f9f-a738-510ce45450b7"
      },
      "source": [
        "from random import randint\r\n",
        "low = 0\r\n",
        "high = 10\r\n",
        "\r\n",
        "correct = randint(low, high)\r\n",
        "print(f'Guess a number between {low} and {high}')\r\n",
        "\r\n",
        "while True:\r\n",
        "  guess = int(input())\r\n",
        "  #print(type(guess), type(correct))\r\n",
        "\r\n",
        "  if guess < correct:\r\n",
        "    print(\"guess higher\")\r\n",
        "  elif guess > correct:\r\n",
        "    print(\"guess lower\")\r\n",
        "  else:\r\n",
        "    print(\"you win!\")\r\n",
        "    break\r\n",
        "\r\n",
        "\r\n"
      ],
      "execution_count": 3,
      "outputs": [
        {
          "output_type": "stream",
          "text": [
            "Guess a number between 0 and 10\n",
            "1\n",
            "guess lower\n",
            "0\n",
            "you win!\n"
          ],
          "name": "stdout"
        }
      ]
    }
  ]
}